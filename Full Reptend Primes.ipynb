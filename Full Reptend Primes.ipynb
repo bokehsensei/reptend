{
 "metadata": {
  "name": "",
  "signature": "sha256:f2e6f0327b1e339d12544f9663e066bede78f37f41dee2e87bee5e59d16e19a3"
 },
 "nbformat": 3,
 "nbformat_minor": 0,
 "worksheets": [
  {
   "cells": [
    {
     "cell_type": "code",
     "collapsed": false,
     "input": [
      "import run\n",
      "import matplotlib.pyplot as plt"
     ],
     "language": "python",
     "metadata": {},
     "outputs": [],
     "prompt_number": 5
    },
    {
     "cell_type": "code",
     "collapsed": false,
     "input": [
      "%pylab inline"
     ],
     "language": "python",
     "metadata": {},
     "outputs": [
      {
       "output_type": "stream",
       "stream": "stdout",
       "text": [
        "Populating the interactive namespace from numpy and matplotlib\n"
       ]
      }
     ],
     "prompt_number": 2
    },
    {
     "cell_type": "code",
     "collapsed": false,
     "input": [
      "c = run.to_int( run.del_leading_zeros( repetend_17[1] ))\n",
      "len(repetend_17[1])"
     ],
     "language": "python",
     "metadata": {},
     "outputs": [
      {
       "metadata": {},
       "output_type": "pyout",
       "prompt_number": 22,
       "text": [
        "16"
       ]
      }
     ],
     "prompt_number": 22
    },
    {
     "cell_type": "code",
     "collapsed": false,
     "input": [
      "periodogram = dict()\n",
      "for n in range(1, 200):\n",
      "    k, r = run.reptend(1,n)\n",
      "    periodogram[n] = len(r)\n",
      "\n",
      "N = list(periodogram.keys())\n",
      "P = list(periodogram.values())\n",
      "    "
     ],
     "language": "python",
     "metadata": {},
     "outputs": [],
     "prompt_number": 10
    },
    {
     "cell_type": "code",
     "collapsed": false,
     "input": [
      "plt.plot( N, P, 'ro')\n",
      "plt.show()"
     ],
     "language": "python",
     "metadata": {},
     "outputs": [
      {
       "metadata": {},
       "output_type": "display_data",
       "png": "[encoded data removed]",
       "text": [
        "<matplotlib.figure.Figure at 0x107860630>"
       ]
      }
     ],
     "prompt_number": 11
    },
    {
     "cell_type": "markdown",
     "metadata": {},
     "source": [
      "#Some Findings\n",
      "\n",
      "The period of the product of two full reptend is the product of their periods divided by some integerkj.\n",
      "-----\n",
      "Examples:\n",
      "period(7**17)= 6*16/2 = 48\n",
      "period(29**47) = 28*46/2 = 644"
     ]
    },
    {
     "cell_type": "code",
     "collapsed": false,
     "input": [
      "len(run.reptend(1, 7*17)[1][1])"
     ],
     "language": "python",
     "metadata": {},
     "outputs": [
      {
       "metadata": {},
       "output_type": "pyout",
       "prompt_number": 25,
       "text": [
        "48"
       ]
      }
     ],
     "prompt_number": 25
    },
    {
     "cell_type": "code",
     "collapsed": false,
     "input": [
      "len(run.reptend(1, 29*47)[1][1])"
     ],
     "language": "python",
     "metadata": {},
     "outputs": [
      {
       "metadata": {},
       "output_type": "pyout",
       "prompt_number": 26,
       "text": [
        "644"
       ]
      }
     ],
     "prompt_number": 26
    },
    {
     "cell_type": "code",
     "collapsed": false,
     "input": [
      "from sympy.ntheory import isprime\n",
      "\n",
      "primes = []\n",
      "composites = []\n",
      "max_n = 1000\n",
      "\n",
      "for i in range(2, max_n):\n",
      "    if isprime(i):\n",
      "        primes += [i]\n",
      "    else:\n",
      "        composites += [i]\n",
      "    "
     ],
     "language": "python",
     "metadata": {},
     "outputs": [],
     "prompt_number": 71
    },
    {
     "cell_type": "code",
     "collapsed": false,
     "input": [
      "from collections import defaultdict\n",
      "frp = []\n",
      "primes_periods = defaultdict(list)\n",
      "\n",
      "for p in primes:\n",
      "    k,v = run.reptend(1,p)\n",
      "    period = len(v)\n",
      "    primes_periods[period] += [p]\n",
      "    if period == p-1:\n",
      "        frp += [p]"
     ],
     "language": "python",
     "metadata": {},
     "outputs": [],
     "prompt_number": 79
    },
    {
     "cell_type": "code",
     "collapsed": false,
     "input": [
      "for p in sorted(primes_periods.keys()):\n",
      "    print('{0} => {1}'.format(p, primes_periods[p]))\n",
      "\n",
      "def evenness(distribution):\n",
      "    evens = 0\n",
      "    odds = 0\n",
      "    for p in distribution.keys():\n",
      "        if p % 2:\n",
      "            odds += 1\n",
      "        else:\n",
      "            evens += 1\n",
      "    return evens*100//len(distribution), odds*100//len(distribution)\n",
      "\n",
      "def randomness(reptend):\n",
      "    count = dict(zip(range(10), repeat(0,10)))\n",
      "    for digit in reptend:\n",
      "        count[digit] += 1\n",
      "    for n,c in count.items():\n",
      "        count[n] = c*100//len(reptend)\n",
      "    return count\n",
      "\n",
      "e,o = evenness(primes_periods)\n",
      "print('Even periods: {}%'.format(e))\n",
      "print('Odd periods: {}%'.format(o))"
     ],
     "language": "python",
     "metadata": {},
     "outputs": [
      {
       "output_type": "stream",
       "stream": "stdout",
       "text": [
        "0 => [2, 5]\n",
        "1 => [3]\n",
        "2 => [11]\n",
        "3 => [37]\n",
        "4 => [101]\n",
        "5 => [41, 271]\n",
        "6 => [7, 13]\n",
        "7 => [239]\n",
        "8 => [73, 137]\n",
        "13 => [53, 79]\n",
        "15 => [31]\n",
        "16 => [17]\n",
        "18 => [19]\n",
        "21 => [43]\n",
        "22 => [23]\n",
        "26 => [859]\n",
        "27 => [757]\n",
        "28 => [29, 281]\n",
        "30 => [211, 241]\n",
        "32 => [353, 449, 641]\n",
        "33 => [67]\n",
        "34 => [103]\n",
        "35 => [71]\n",
        "41 => [83]\n",
        "42 => [127]\n",
        "43 => [173]\n",
        "44 => [89]\n",
        "46 => [47, 139]\n",
        "50 => [251]\n",
        "51 => [613]\n",
        "52 => [521]\n",
        "53 => [107]\n",
        "58 => [59]\n",
        "60 => [61]\n",
        "61 => [733]\n",
        "69 => [277]\n",
        "75 => [151]\n",
        "78 => [157]\n",
        "79 => [317]\n",
        "81 => [163]\n",
        "88 => [617]\n",
        "91 => [547]\n",
        "95 => [191]\n",
        "96 => [97]\n",
        "98 => [197]\n",
        "99 => [199, 397]\n",
        "107 => [643]\n",
        "108 => [109]\n",
        "110 => [331]\n",
        "112 => [113]\n",
        "113 => [227]\n",
        "116 => [349]\n",
        "125 => [751]\n",
        "130 => [131]\n",
        "140 => [421]\n",
        "141 => [283]\n",
        "146 => [293]\n",
        "148 => [149]\n",
        "151 => [907]\n",
        "152 => [457]\n",
        "153 => [307]\n",
        "154 => [463]\n",
        "155 => [311]\n",
        "166 => [167, 997]\n",
        "173 => [347]\n",
        "178 => [179]\n",
        "179 => [359]\n",
        "180 => [181]\n",
        "186 => [373]\n",
        "192 => [193, 769]\n",
        "193 => [773]\n",
        "199 => [797]\n",
        "200 => [401]\n",
        "202 => [607, 809]\n",
        "204 => [409]\n",
        "213 => [853]\n",
        "215 => [431]\n",
        "219 => [439]\n",
        "220 => [661]\n",
        "221 => [443]\n",
        "222 => [223]\n",
        "224 => [673]\n",
        "228 => [229]\n",
        "230 => [691]\n",
        "232 => [233]\n",
        "233 => [467]\n",
        "239 => [479]\n",
        "246 => [739]\n",
        "256 => [257]\n",
        "261 => [523]\n",
        "262 => [263]\n",
        "268 => [269]\n",
        "276 => [829]\n",
        "278 => [557]\n",
        "281 => [563]\n",
        "284 => [569]\n",
        "293 => [587]\n",
        "299 => [599]\n",
        "300 => [601]\n",
        "312 => [313]\n",
        "315 => [631]\n",
        "322 => [967]\n",
        "326 => [653]\n",
        "336 => [337]\n",
        "338 => [677]\n",
        "341 => [683]\n",
        "359 => [719]\n",
        "366 => [367]\n",
        "378 => [379]\n",
        "380 => [761]\n",
        "382 => [383]\n",
        "388 => [389]\n",
        "393 => [787]\n",
        "413 => [827]\n",
        "418 => [419]\n",
        "419 => [839]\n",
        "432 => [433]\n",
        "438 => [877]\n",
        "440 => [881]\n",
        "441 => [883]\n",
        "455 => [911]\n",
        "459 => [919]\n",
        "460 => [461]\n",
        "464 => [929]\n",
        "473 => [947]\n",
        "486 => [487]\n",
        "490 => [491]\n",
        "495 => [991]\n",
        "498 => [499]\n",
        "502 => [503]\n",
        "508 => [509]\n",
        "540 => [541]\n",
        "570 => [571]\n",
        "576 => [577]\n",
        "592 => [593]\n",
        "618 => [619]\n",
        "646 => [647]\n",
        "658 => [659]\n",
        "700 => [701]\n",
        "708 => [709]\n",
        "726 => [727]\n",
        "742 => [743]\n",
        "810 => [811]\n",
        "820 => [821]\n",
        "822 => [823]\n",
        "856 => [857]\n",
        "862 => [863]\n",
        "886 => [887]\n",
        "936 => [937]\n",
        "940 => [941]\n",
        "952 => [953]\n",
        "970 => [971]\n",
        "976 => [977]\n",
        "982 => [983]\n",
        "Even periods: 64%\n",
        "Odd periods: 35%\n"
       ]
      }
     ],
     "prompt_number": 73
    },
    {
     "cell_type": "code",
     "collapsed": false,
     "input": [
      "composites_periods = defaultdict(list)\n",
      "\n",
      "for c in composites:\n",
      "    _,v = run.reptend(1,c)\n",
      "    p = len(v)\n",
      "    # print('{} => {}'.format(c,p))\n",
      "    composites_periods[p] += [c]\n",
      "    "
     ],
     "language": "python",
     "metadata": {},
     "outputs": [],
     "prompt_number": 80
    },
    {
     "cell_type": "code",
     "collapsed": false,
     "input": [
      "for p in sorted(composites_periods.keys()):\n",
      "    print('{0} => {1}'.format(p,composites_periods[p]))\n",
      "    \n",
      "print('Even: {}\\nOdd: {}'.format(*evenness(composites_periods)))"
     ],
     "language": "python",
     "metadata": {},
     "outputs": [
      {
       "output_type": "stream",
       "stream": "stdout",
       "text": [
        "0 => [4, 8, 10, 16, 20, 25, 32, 40, 50, 64, 80, 100, 125, 128, 160, 200, 250, 256, 320, 400, 500, 512, 625, 640, 800]\n",
        "1 => [6, 9, 12, 15, 18, 24, 30, 36, 45, 48, 60, 72, 75, 90, 96, 120, 144, 150, 180, 192, 225, 240, 288, 300, 360, 375, 384, 450, 480, 576, 600, 720, 750, 768, 900, 960]\n",
        "2 => [22, 33, 44, 55, 66, 88, 99, 110, 132, 165, 176, 198, 220, 264, 275, 330, 352, 396, 440, 495, 528, 550, 660, 704, 792, 825, 880, 990]\n",
        "3 => [27, 54, 74, 108, 111, 135, 148, 185, 216, 222, 270, 296, 333, 370, 432, 444, 540, 555, 592, 666, 675, 740, 864, 888, 925, 999]\n",
        "4 => [202, 303, 404, 505, 606, 808, 909]\n",
        "5 => [82, 123, 164, 205, 246, 328, 369, 410, 492, 542, 615, 656, 738, 813, 820, 984]\n",
        "6 => [14, 21, 26, 28, 35, 39, 42, 52, 56, 63, 65, 70, 77, 78, 84, 91, 104, 105, 112, 117, 126, 130, 140, 143, 154, 156, 168, 175, 182, 189, 195, 208, 210, 224, 231, 234, 252, 259, 260, 273, 280, 286, 297, 308, 312, 315, 325, 336, 350, 351, 364, 378, 385, 390, 407, 416, 420, 429, 448, 455, 462, 468, 481, 504, 518, 520, 525, 546, 560, 572, 585, 594, 616, 624, 630, 650, 672, 693, 700, 702, 715, 728, 756, 770, 777, 780, 814, 819, 832, 840, 858, 875, 896, 910, 924, 936, 945, 962, 975]\n",
        "7 => [478, 717, 956]\n",
        "8 => [146, 219, 274, 292, 365, 411, 438, 548, 584, 657, 685, 730, 803, 822, 876]\n",
        "9 => [81, 162, 324, 405, 648, 810]\n",
        "10 => [451, 902]\n",
        "12 => [707]\n",
        "13 => [106, 158, 159, 212, 237, 265, 316, 318, 395, 424, 474, 477, 530, 632, 636, 711, 790, 795, 848, 948, 954]\n",
        "15 => [62, 93, 124, 155, 186, 248, 279, 310, 372, 465, 496, 558, 620, 744, 775, 837, 930, 992]\n",
        "16 => [34, 51, 68, 85, 102, 136, 153, 170, 187, 204, 255, 272, 306, 340, 374, 408, 425, 510, 544, 561, 612, 680, 748, 765, 816, 850, 935]\n",
        "18 => [38, 57, 76, 95, 114, 133, 152, 171, 190, 209, 228, 247, 266, 285, 304, 342, 380, 399, 418, 456, 475, 494, 513, 532, 567, 570, 608, 627, 665, 684, 703, 741, 760, 798, 836, 855, 891, 912, 950, 988]\n",
        "21 => [86, 129, 172, 215, 258, 344, 387, 430, 516, 645, 688, 774, 860]\n",
        "22 => [46, 69, 92, 115, 121, 138, 184, 207, 230, 242, 253, 276, 345, 363, 368, 414, 460, 484, 506, 552, 575, 605, 690, 726, 736, 759, 828, 920, 968]\n",
        "24 => [511, 949, 959]\n",
        "26 => [583, 869]\n",
        "27 => [243, 486, 972]\n",
        "28 => [58, 87, 116, 145, 174, 232, 261, 290, 319, 348, 435, 464, 522, 562, 580, 638, 696, 725, 843, 870, 928, 957]\n",
        "30 => [217, 287, 341, 403, 422, 434, 482, 533, 574, 633, 651, 682, 723, 806, 844, 861, 868, 964]\n",
        "32 => [706, 898]\n",
        "33 => [134, 201, 268, 335, 402, 536, 603, 670, 804]\n",
        "34 => [206, 309, 412, 515, 618, 824, 927]\n",
        "35 => [142, 213, 284, 355, 426, 568, 639, 710, 852]\n",
        "41 => [166, 249, 332, 415, 498, 664, 747, 830, 996]\n",
        "42 => [49, 98, 147, 196, 245, 254, 294, 301, 381, 392, 441, 473, 490, 508, 539, 559, 588, 602, 635, 637, 735, 762, 784, 882, 889, 903, 946, 980]\n",
        "43 => [346, 519, 692, 865]\n",
        "44 => [178, 267, 356, 445, 534, 712, 801, 890, 979]\n",
        "46 => [94, 141, 188, 235, 278, 282, 376, 417, 423, 470, 517, 556, 564, 695, 705, 752, 834, 846, 940]\n",
        "48 => [119, 221, 238, 357, 442, 459, 476, 595, 629, 663, 714, 884, 918, 952]\n",
        "50 => [502, 753]\n",
        "53 => [214, 321, 428, 535, 642, 856, 963]\n",
        "58 => [118, 177, 236, 295, 354, 472, 531, 590, 649, 708, 885, 944]\n",
        "60 => [122, 183, 244, 305, 366, 427, 488, 549, 610, 671, 732, 793, 854, 915, 976]\n",
        "66 => [161, 299, 322, 469, 483, 598, 621, 644, 737, 805, 847, 851, 871, 897, 938, 966]\n",
        "69 => [554, 831]\n",
        "70 => [781]\n",
        "75 => [302, 453, 604, 755, 906]\n",
        "78 => [169, 314, 338, 371, 471, 507, 553, 628, 676, 689, 742, 785, 845, 942]\n",
        "79 => [634, 951]\n",
        "80 => [697]\n",
        "81 => [326, 489, 652, 729, 815, 978]\n",
        "82 => [913]\n",
        "84 => [203, 377, 406, 609, 754, 783, 812]\n",
        "90 => [589, 779]\n",
        "95 => [382, 573, 764, 955]\n",
        "96 => [194, 291, 388, 485, 582, 679, 776, 873, 970]\n",
        "98 => [394, 591, 788, 985]\n",
        "99 => [398, 597, 794, 796, 995]\n",
        "102 => [721]\n",
        "108 => [218, 327, 436, 545, 654, 763, 872, 981]\n",
        "110 => [662, 943, 993]\n",
        "112 => [226, 339, 452, 493, 565, 678, 904, 986]\n",
        "113 => [454, 681, 908]\n",
        "116 => [698]\n",
        "126 => [817, 931]\n",
        "130 => [262, 393, 524, 655, 786]\n",
        "132 => [623]\n",
        "138 => [329, 611, 658, 973, 987]\n",
        "140 => [842]\n",
        "141 => [566, 849]\n",
        "144 => [323, 646, 969]\n",
        "146 => [586, 879]\n",
        "148 => [298, 447, 596, 745, 894]\n",
        "152 => [914]\n",
        "153 => [614, 921]\n",
        "154 => [926]\n",
        "155 => [622, 933]\n",
        "166 => [334, 501, 668, 835]\n",
        "173 => [694]\n",
        "174 => [413, 767, 826]\n",
        "176 => [391, 782]\n",
        "178 => [358, 537, 716, 895]\n",
        "179 => [718]\n",
        "180 => [362, 543, 724, 905]\n",
        "186 => [746]\n",
        "192 => [386, 579, 772, 965]\n",
        "198 => [437, 874]\n",
        "200 => [802]\n",
        "204 => [818]\n",
        "208 => [901]\n",
        "210 => [497, 923, 994]\n",
        "215 => [862]\n",
        "219 => [878]\n",
        "221 => [886]\n",
        "222 => [446, 669, 892]\n",
        "228 => [458, 687, 916]\n",
        "232 => [466, 699, 932]\n",
        "233 => [934]\n",
        "239 => [958]\n",
        "240 => [527]\n",
        "246 => [581]\n",
        "252 => [551]\n",
        "256 => [514, 771]\n",
        "262 => [526, 789]\n",
        "268 => [538, 807]\n",
        "272 => [289, 578, 867]\n",
        "294 => [343, 686]\n",
        "308 => [667]\n",
        "312 => [626, 939]\n",
        "318 => [749]\n",
        "330 => [713]\n",
        "336 => [674, 731, 791, 833]\n",
        "342 => [361, 722]\n",
        "366 => [734]\n",
        "368 => [799]\n",
        "378 => [758]\n",
        "382 => [766]\n",
        "388 => [778]\n",
        "390 => [917]\n",
        "414 => [893]\n",
        "418 => [838]\n",
        "420 => [899]\n",
        "432 => [866]\n",
        "460 => [922]\n",
        "462 => [989]\n",
        "465 => [961]\n",
        "486 => [974]\n",
        "490 => [982]\n",
        "498 => [998]\n",
        "506 => [529]\n",
        "812 => [841]\n",
        "Even: 74\n",
        "Odd: 25\n"
       ]
      }
     ],
     "prompt_number": 81
    },
    {
     "cell_type": "code",
     "collapsed": false,
     "input": [
      "print('Composites use {}% of possibles periods'.format(len(composites_periods)*100//max_n))\n",
      "print('Primes use {}% of possibles periods'.format(len(primes_periods)*100//max_n))"
     ],
     "language": "python",
     "metadata": {},
     "outputs": [
      {
       "output_type": "stream",
       "stream": "stdout",
       "text": [
        "Composites use 12% of possibles periods\n",
        "Primes use 15% of possibles periods\n"
       ]
      }
     ],
     "prompt_number": 82
    },
    {
     "cell_type": "code",
     "collapsed": false,
     "input": [
      "def sum_digits(n):\n",
      "    s = 0\n",
      "    q = n\n",
      "    while q:\n",
      "        q,r = divmod(q,10)\n",
      "        s+=r\n",
      "    return s\n",
      "\n",
      "sum_digits(123456789) == 45"
     ],
     "language": "python",
     "metadata": {},
     "outputs": [
      {
       "metadata": {},
       "output_type": "pyout",
       "prompt_number": 83,
       "text": [
        "True"
       ]
      }
     ],
     "prompt_number": 83
    },
    {
     "cell_type": "code",
     "collapsed": false,
     "input": [
      "from random import getrandbits\n",
      "\n",
      "#a = getrandbits(1024)\n",
      "a = 941\n",
      "print('s(a)={}\\ns(a**2)={}\\ns(a**10)={}'.format(\n",
      "sum_digits(a),\n",
      "sum_digits(a**2),\n",
      "sum_digits(a**10)))"
     ],
     "language": "python",
     "metadata": {},
     "outputs": [
      {
       "output_type": "stream",
       "stream": "stdout",
       "text": [
        "s(a)=14\n",
        "s(a**2)=34\n",
        "s(a**10)=130\n"
       ]
      }
     ],
     "prompt_number": 118
    },
    {
     "cell_type": "code",
     "collapsed": false,
     "input": [
      "frp[-10:-1]\n"
     ],
     "language": "python",
     "metadata": {},
     "outputs": [
      {
       "metadata": {},
       "output_type": "pyout",
       "prompt_number": 106,
       "text": [
        "[823, 857, 863, 887, 937, 941, 953, 971, 977]"
       ]
      }
     ],
     "prompt_number": 106
    },
    {
     "cell_type": "code",
     "collapsed": false,
     "input": [
      "from math import sqrt, log\n",
      "\n",
      "a = sqrt(21)"
     ],
     "language": "python",
     "metadata": {},
     "outputs": [],
     "prompt_number": 120
    },
    {
     "cell_type": "code",
     "collapsed": false,
     "input": [
      "a"
     ],
     "language": "python",
     "metadata": {},
     "outputs": [
      {
       "metadata": {},
       "output_type": "pyout",
       "prompt_number": 121,
       "text": [
        "4.58257569495584"
       ]
      }
     ],
     "prompt_number": 121
    },
    {
     "cell_type": "code",
     "collapsed": false,
     "input": [],
     "language": "python",
     "metadata": {},
     "outputs": []
    }
   ],
   "metadata": {}
  }
 ]
}